{
 "cells": [
  {
   "cell_type": "code",
   "execution_count": 1,
   "id": "3746781f-7219-4d08-a3c4-24751549201d",
   "metadata": {},
   "outputs": [],
   "source": [
    "#| default_exp electric_potential"
   ]
  },
  {
   "cell_type": "markdown",
   "id": "a20373a6-9470-42a7-a0e8-6c1f0d0ff166",
   "metadata": {},
   "source": [
    "# 23. Electric Potential"
   ]
  },
  {
   "cell_type": "markdown",
   "id": "f9b3b7dd-e6d7-4ae3-a7dd-84a36dac73ec",
   "metadata": {},
   "source": [
    "$$V=\\frac{1}{4 \\pi \\epsilon_{0}} \\frac{q}{r}$$\n",
    "\n",
    "$q$: value of point charge\n",
    "\n",
    "$r$: distance from point charge to where potential is measured"
   ]
  },
  {
   "cell_type": "code",
   "execution_count": 4,
   "id": "867a9a6b-fb55-4b92-81bf-549377941e44",
   "metadata": {},
   "outputs": [],
   "source": [
    "#| export\n",
    "\n",
    "class ElectricPotential:\n",
    "    pass"
   ]
  }
 ],
 "metadata": {
  "kernelspec": {
   "display_name": "Python 3 (ipykernel)",
   "language": "python",
   "name": "python3"
  },
  "language_info": {
   "codemirror_mode": {
    "name": "ipython",
    "version": 3
   },
   "file_extension": ".py",
   "mimetype": "text/x-python",
   "name": "python",
   "nbconvert_exporter": "python",
   "pygments_lexer": "ipython3",
   "version": "3.9.12"
  }
 },
 "nbformat": 4,
 "nbformat_minor": 5
}
