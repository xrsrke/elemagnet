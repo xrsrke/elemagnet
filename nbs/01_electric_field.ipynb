{
 "cells": [
  {
   "cell_type": "code",
   "execution_count": null,
   "id": "4fbdaed6-9896-41c4-a44f-45dbb2f783d6",
   "metadata": {},
   "outputs": [],
   "source": [
    "#| default_exp electric_field"
   ]
  },
  {
   "cell_type": "markdown",
   "id": "3c8a00fe-6b10-46f5-9855-0521ffd3ad8f",
   "metadata": {},
   "source": [
    "# Electric Field\n",
    "\n",
    "> Fill in a module description here"
   ]
  },
  {
   "cell_type": "code",
   "execution_count": null,
   "id": "67b894a6-7d1c-4f08-9bb9-9f05eabd2671",
   "metadata": {},
   "outputs": [],
   "source": [
    "#| hide\n",
    "from nbdev.showdoc import *"
   ]
  },
  {
   "cell_type": "code",
   "execution_count": null,
   "id": "df3134e9-2710-4aa3-93e5-76ba05d81fcd",
   "metadata": {},
   "outputs": [],
   "source": [
    "#| hide\n",
    "import nbdev; nbdev.nbdev_export()"
   ]
  },
  {
   "cell_type": "code",
   "execution_count": null,
   "id": "34a42ceb-720c-4729-9d97-122ab97b5350",
   "metadata": {},
   "outputs": [],
   "source": [
    "#| export\n",
    "class ElectricField:\n",
    "    pass"
   ]
  },
  {
   "cell_type": "code",
   "execution_count": null,
   "id": "e8494f9b-2f62-4ddf-9aab-3cfd931ba3b8",
   "metadata": {},
   "outputs": [],
   "source": []
  },
  {
   "cell_type": "code",
   "execution_count": null,
   "id": "0e3c1c47-90a2-4f24-ae53-ff4385f33357",
   "metadata": {},
   "outputs": [],
   "source": []
  }
 ],
 "metadata": {
  "kernelspec": {
   "display_name": "Python 3 (ipykernel)",
   "language": "python",
   "name": "python3"
  }
 },
 "nbformat": 4,
 "nbformat_minor": 5
}
