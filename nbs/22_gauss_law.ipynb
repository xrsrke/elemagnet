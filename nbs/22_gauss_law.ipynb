{
 "cells": [
  {
   "cell_type": "markdown",
   "id": "d3ecb625-a6eb-4d60-aa46-b1d1de5d92e3",
   "metadata": {},
   "source": [
    "### 22. Gauss's Law"
   ]
  },
  {
   "cell_type": "code",
   "execution_count": null,
   "id": "a295b91f-c319-4966-bc60-c92b99bbe115",
   "metadata": {},
   "outputs": [],
   "source": []
  }
 ],
 "metadata": {
  "kernelspec": {
   "display_name": "Python 3 (ipykernel)",
   "language": "python",
   "name": "python3"
  }
 },
 "nbformat": 4,
 "nbformat_minor": 5
}
