{
 "cells": [
  {
   "cell_type": "code",
   "execution_count": null,
   "id": "990e3444-ad03-4bf6-90b7-1b8d811047ed",
   "metadata": {},
   "outputs": [],
   "source": [
    "#| default_exp constant"
   ]
  },
  {
   "cell_type": "code",
   "execution_count": null,
   "id": "04a2d6af-6dab-4e32-8b55-47c6c86457f9",
   "metadata": {},
   "outputs": [],
   "source": [
    "#| export\n",
    "ELECTRIC_CONSTANT = 8.988e9 # N m^2/C^2"
   ]
  },
  {
   "cell_type": "code",
   "execution_count": null,
   "id": "a0a9f2fb-3c1a-41fc-b51f-d156540bd838",
   "metadata": {},
   "outputs": [],
   "source": [
    "#| export\n",
    "PI = 3.14 # pi number"
   ]
  }
 ],
 "metadata": {
  "kernelspec": {
   "display_name": "Python 3 (ipykernel)",
   "language": "python",
   "name": "python3"
  }
 },
 "nbformat": 4,
 "nbformat_minor": 5
}
