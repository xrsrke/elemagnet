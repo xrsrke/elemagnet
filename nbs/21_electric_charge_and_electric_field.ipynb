{
 "cells": [
  {
   "cell_type": "code",
   "execution_count": 13,
   "id": "315f70ed-c562-4cbc-bafe-2a9cc001c781",
   "metadata": {},
   "outputs": [],
   "source": [
    "#| default_exp electric_field"
   ]
  },
  {
   "cell_type": "code",
   "execution_count": 14,
   "id": "e46de893-eeee-4c2d-a096-44e5e5c46871",
   "metadata": {},
   "outputs": [],
   "source": [
    "#| hide\n",
    "from nbdev.showdoc import *"
   ]
  },
  {
   "cell_type": "code",
   "execution_count": 15,
   "id": "283a0bb0-1ab8-49ea-9a67-0b1544d8aa37",
   "metadata": {},
   "outputs": [],
   "source": [
    "#| hide\n",
    "import nbdev; nbdev.nbdev_export()"
   ]
  },
  {
   "cell_type": "code",
   "execution_count": 16,
   "id": "e12e3fe6-ece4-4ebb-9513-77133462d185",
   "metadata": {},
   "outputs": [],
   "source": [
    "#| export\n",
    "\n",
    "from typing import Any\n",
    "from dataclasses import dataclass, field\n",
    "\n",
    "import vector\n",
    "from scipy.constants import epsilon_0, pi"
   ]
  },
  {
   "cell_type": "markdown",
   "id": "a54e781d-9ad3-446f-96cb-afd5bd14af40",
   "metadata": {},
   "source": [
    "### Chapter 21: Electric Charge and Electric Field"
   ]
  },
  {
   "cell_type": "markdown",
   "id": "7074dd29-0fc5-4da9-aff7-34f6e604f32b",
   "metadata": {},
   "source": [
    "### Vector"
   ]
  },
  {
   "cell_type": "code",
   "execution_count": 17,
   "id": "177db6b9-1a40-4397-9a68-52e9be35d63a",
   "metadata": {},
   "outputs": [],
   "source": [
    "# class Vector:\n",
    "#     def __init__(self, q1, q2 = None):\n",
    "#         self.q1 = q1\n",
    "#         self.q2 = q2\n",
    "    \n",
    "#     @property\n",
    "#     def magnitude(self):\n",
    "        \n",
    "#         if self.q2:\n",
    "#             pass\n",
    "#         else:\n",
    "            \n",
    "        \n",
    "#         if self.x and self.y and self.z:\n",
    "#             return vector.obj(x=self.x, y=self.y, z=self.z).mag\n",
    "#         elif self.x and self.y:\n",
    "#             return vector.obj(x=self.x, y=self.y).rho\n",
    "#         else:\n",
    "#             raise ValueError(\"Hell no\")"
   ]
  },
  {
   "cell_type": "code",
   "execution_count": 18,
   "id": "6720e045-1fb3-4827-bc2d-c33808a78718",
   "metadata": {},
   "outputs": [],
   "source": [
    "#| export\n",
    "class Vector:\n",
    "    def __init__(self, x, y, z = None):\n",
    "        self.x = x\n",
    "        self.y = y\n",
    "        self.z = z\n",
    "    \n",
    "    @property\n",
    "    def magnitude(self):\n",
    "        if self.x and self.y and self.z:\n",
    "            return vector.obj(x=self.x, y=self.y, z=self.z).mag\n",
    "        elif self.x and self.y:\n",
    "            return vector.obj(x=self.x, y=self.y).rho\n",
    "        else:\n",
    "            raise ValueError(\"Hell no\")\n",
    "    \n",
    "    def add(self, other: vector):\n",
    "        #return vector(x=self.x, y=self.y)\n",
    "        pass"
   ]
  },
  {
   "cell_type": "code",
   "execution_count": 19,
   "id": "ab861dd8-52b3-402f-9cb8-75092d9f9697",
   "metadata": {},
   "outputs": [],
   "source": [
    "v1 = Vector(x=1, y=1)"
   ]
  },
  {
   "cell_type": "code",
   "execution_count": 20,
   "id": "309b1b0b-8bcc-48d9-9593-8826a1c24ea9",
   "metadata": {},
   "outputs": [
    {
     "data": {
      "text/plain": [
       "{'x': 1, 'y': 1, 'z': None}"
      ]
     },
     "execution_count": 20,
     "metadata": {},
     "output_type": "execute_result"
    }
   ],
   "source": [
    "v1.__dict__"
   ]
  },
  {
   "cell_type": "code",
   "execution_count": 21,
   "id": "7a43444d-858f-463d-a84c-74bc43438853",
   "metadata": {},
   "outputs": [
    {
     "data": {
      "text/plain": [
       "1.4142135623730951"
      ]
     },
     "execution_count": 21,
     "metadata": {},
     "output_type": "execute_result"
    }
   ],
   "source": [
    "v1.magnitude"
   ]
  },
  {
   "cell_type": "code",
   "execution_count": 22,
   "id": "70769774-1016-4926-9a26-dd432753720d",
   "metadata": {},
   "outputs": [
    {
     "data": {
      "text/plain": [
       "1.4142135623730951"
      ]
     },
     "execution_count": 22,
     "metadata": {},
     "output_type": "execute_result"
    }
   ],
   "source": [
    "vector.obj(x=1, y=1).rho"
   ]
  },
  {
   "cell_type": "code",
   "execution_count": 23,
   "id": "dd41bdeb-bb85-4798-a645-56beef24fb41",
   "metadata": {},
   "outputs": [
    {
     "data": {
      "text/plain": [
       "14"
      ]
     },
     "execution_count": 23,
     "metadata": {},
     "output_type": "execute_result"
    }
   ],
   "source": [
    "vector.obj(x=1, y=2, z=3).mag2"
   ]
  },
  {
   "cell_type": "code",
   "execution_count": 24,
   "id": "27f09849-1808-4fb5-8737-7a0e4caf010e",
   "metadata": {},
   "outputs": [
    {
     "data": {
      "text/plain": [
       "vector.obj(x=9, y=3)"
      ]
     },
     "execution_count": 24,
     "metadata": {},
     "output_type": "execute_result"
    }
   ],
   "source": [
    "vector.obj(x=4, y=2).add(vector.obj(x=5, y=1))"
   ]
  },
  {
   "cell_type": "markdown",
   "id": "2f45d551-0774-4ddd-8832-055bdaebf78a",
   "metadata": {},
   "source": [
    "### Unit"
   ]
  },
  {
   "cell_type": "markdown",
   "id": "42611742-00e9-4b71-9b00-d1748e9ec096",
   "metadata": {},
   "source": [
    "Handle unit"
   ]
  },
  {
   "cell_type": "code",
   "execution_count": 25,
   "id": "7ec88663-0f91-4dea-90e9-f4dc299e8085",
   "metadata": {},
   "outputs": [],
   "source": [
    "class Unit:\n",
    "    pass"
   ]
  },
  {
   "cell_type": "markdown",
   "id": "0e2b4d92-3889-41de-bfe9-c961acefaf1b",
   "metadata": {},
   "source": [
    "### Particle"
   ]
  },
  {
   "cell_type": "code",
   "execution_count": 26,
   "id": "c9fde42c-ff12-40ff-ab12-82512e53147d",
   "metadata": {},
   "outputs": [],
   "source": [
    "#| export\n",
    "class Particle:\n",
    "    def __init__(\n",
    "        self,\n",
    "        electric_charge: int, # electric charge\n",
    "        coordinate: vector, # coorindate\n",
    "    ):\n",
    "        self.electric_charge = electric_charge\n",
    "        self.coordinate = coordinate\n",
    "    \n",
    "    @property\n",
    "    def electric_charge(self):\n",
    "        return self._electric_charge\n",
    "    \n",
    "    @electric_charge.setter\n",
    "    def electric_charge(self, value):\n",
    "        self._electric_charge = value"
   ]
  },
  {
   "cell_type": "code",
   "execution_count": 27,
   "id": "3f79c782-3aec-4f01-b705-0b5f16c76bf0",
   "metadata": {},
   "outputs": [
    {
     "data": {
      "text/markdown": [
       "---\n",
       "\n",
       "[source](https://github.com/xrsrke/elemagnet/blob/master/elemagnet/electric_field.py#L53){target=\"_blank\" style=\"float:right; font-size:smaller\"}\n",
       "\n",
       "### Particle\n",
       "\n",
       ">      Particle (electric_charge:int, coordinate:<module'vector'from'/opt/anacon\n",
       ">                da3/envs/ElemagnetPackage/lib/python3.9/site-\n",
       ">                packages/vector/__init__.py'>)\n",
       "\n",
       "Initialize self.  See help(type(self)) for accurate signature.\n",
       "\n",
       "|    | **Type** | **Details** |\n",
       "| -- | -------- | ----------- |\n",
       "| electric_charge | int | electric charge |\n",
       "| coordinate | vector | coorindate |"
      ],
      "text/plain": [
       "---\n",
       "\n",
       "[source](https://github.com/xrsrke/elemagnet/blob/master/elemagnet/electric_field.py#L53){target=\"_blank\" style=\"float:right; font-size:smaller\"}\n",
       "\n",
       "### Particle\n",
       "\n",
       ">      Particle (electric_charge:int, coordinate:<module'vector'from'/opt/anacon\n",
       ">                da3/envs/ElemagnetPackage/lib/python3.9/site-\n",
       ">                packages/vector/__init__.py'>)\n",
       "\n",
       "Initialize self.  See help(type(self)) for accurate signature.\n",
       "\n",
       "|    | **Type** | **Details** |\n",
       "| -- | -------- | ----------- |\n",
       "| electric_charge | int | electric charge |\n",
       "| coordinate | vector | coorindate |"
      ]
     },
     "execution_count": 27,
     "metadata": {},
     "output_type": "execute_result"
    }
   ],
   "source": [
    "show_doc(Particle)"
   ]
  },
  {
   "cell_type": "code",
   "execution_count": 28,
   "id": "18adcf8c-ee4f-4bad-8c20-9d7fe8bc43fb",
   "metadata": {},
   "outputs": [],
   "source": [
    "#| export\n",
    "@dataclass\n",
    "class Particle:\n",
    "    electric_charge: int\n",
    "    coordinate: Vector\n",
    "    \n",
    "    def __post_init__(self):\n",
    "        \n",
    "        #self.electric_field = ElectricField()\n",
    "        # if len(self.coordinate) == 3:\n",
    "        #     self.coordinate = vector.obj(x=self.coordinate[0], y=self.coordinate[1], z=self.coordinate[2])\n",
    "        # elif len(self.coordinate) == 2:\n",
    "        #     self.coordinate = vector.obj(x=self.coordinate[0], y=self.coordinate[1])\n",
    "        \n",
    "        pass"
   ]
  },
  {
   "cell_type": "code",
   "execution_count": 29,
   "id": "a6590e75-0918-43c9-9d8c-55ffbd274a01",
   "metadata": {},
   "outputs": [],
   "source": [
    "p1 = Particle(electric_charge=1, coordinate=Vector(1, 2))"
   ]
  },
  {
   "cell_type": "code",
   "execution_count": 30,
   "id": "bf136b78-7bf9-4626-8773-a835bdecac02",
   "metadata": {},
   "outputs": [
    {
     "data": {
      "text/plain": [
       "<__main__.Vector at 0x7fa881fba2e0>"
      ]
     },
     "execution_count": 30,
     "metadata": {},
     "output_type": "execute_result"
    }
   ],
   "source": [
    "p1.coordinate"
   ]
  },
  {
   "cell_type": "code",
   "execution_count": 31,
   "id": "c852c4b6-f607-4f5e-a8eb-3f8d5c7efbc9",
   "metadata": {},
   "outputs": [
    {
     "data": {
      "text/plain": [
       "{'electric_charge': 1, 'coordinate': <__main__.Vector at 0x7fa881fba2e0>}"
      ]
     },
     "execution_count": 31,
     "metadata": {},
     "output_type": "execute_result"
    }
   ],
   "source": [
    "p1.__dict__"
   ]
  },
  {
   "cell_type": "markdown",
   "id": "b38995f4-1a3f-48db-98c1-4dcae3196008",
   "metadata": {},
   "source": [
    "### Proton"
   ]
  },
  {
   "cell_type": "code",
   "execution_count": 32,
   "id": "820e2cfd-976e-4d5f-bf68-7f3053f67035",
   "metadata": {},
   "outputs": [],
   "source": [
    "#| export\n",
    "class Proton(Particle):\n",
    "    pass"
   ]
  },
  {
   "cell_type": "code",
   "execution_count": 33,
   "id": "f804f0eb-5fa6-4162-8d15-ed573c2ff36b",
   "metadata": {},
   "outputs": [],
   "source": [
    "#| export\n",
    "class Neutron(Particle):\n",
    "    pass"
   ]
  },
  {
   "cell_type": "code",
   "execution_count": 34,
   "id": "df3939a7-6364-4eb1-9a0b-39aee652aad8",
   "metadata": {},
   "outputs": [],
   "source": [
    "#| export\n",
    "class Electron(Particle):\n",
    "    pass"
   ]
  },
  {
   "cell_type": "code",
   "execution_count": 35,
   "id": "85687a86-0bf6-4606-a7d9-f57228825602",
   "metadata": {},
   "outputs": [],
   "source": [
    "#| export\n",
    "class Force:\n",
    "    pass"
   ]
  },
  {
   "cell_type": "markdown",
   "id": "11b4afaf-7360-4975-a7b4-0b165688f26a",
   "metadata": {},
   "source": [
    "### Coulomb's Law"
   ]
  },
  {
   "cell_type": "markdown",
   "id": "7eec56ff-b25c-48bf-bba0-9200e9886c9e",
   "metadata": {},
   "source": [
    "The magnitude of electric force between two point charges\n",
    "\n",
    "$$F=\\frac{1}{4 \\pi \\epsilon_{0}} \\frac{\\left|q_{1} q_{2}\\right|}{r^{2}}$$\n",
    "\n",
    "$q_1$, $q_2$: values of point charges\n",
    "\n",
    "$r$: distance between them"
   ]
  },
  {
   "cell_type": "code",
   "execution_count": 36,
   "id": "f5c29d3f-c18a-4e6b-add9-e1848f30718d",
   "metadata": {},
   "outputs": [],
   "source": [
    "#| export\n",
    "class CoulombLaw:\n",
    "    \n",
    "    def electric_force(self, q1: Particle, q2: Particle):\n",
    "        pass"
   ]
  },
  {
   "cell_type": "code",
   "execution_count": 37,
   "id": "eef28496-9037-40af-ac7c-261bc9047994",
   "metadata": {},
   "outputs": [
    {
     "data": {
      "text/markdown": [
       "---\n",
       "\n",
       "[source](https://github.com/xrsrke/elemagnet/blob/master/elemagnet/electric_field.py#LNone){target=\"_blank\" style=\"float:right; font-size:smaller\"}\n",
       "\n",
       "### CoulombLaw.electric_force\n",
       "\n",
       ">      CoulombLaw.electric_force (q1:__main__.Particle, q2:__main__.Particle)"
      ],
      "text/plain": [
       "---\n",
       "\n",
       "[source](https://github.com/xrsrke/elemagnet/blob/master/elemagnet/electric_field.py#LNone){target=\"_blank\" style=\"float:right; font-size:smaller\"}\n",
       "\n",
       "### CoulombLaw.electric_force\n",
       "\n",
       ">      CoulombLaw.electric_force (q1:__main__.Particle, q2:__main__.Particle)"
      ]
     },
     "execution_count": 37,
     "metadata": {},
     "output_type": "execute_result"
    }
   ],
   "source": [
    "show_doc(CoulombLaw.electric_force)"
   ]
  },
  {
   "cell_type": "markdown",
   "id": "d51ce6b8-6d68-4803-a33a-f5f4a113a588",
   "metadata": {},
   "source": [
    "### Electric Field"
   ]
  },
  {
   "cell_type": "markdown",
   "id": "74144b90-980c-4ae3-8c66-0275052559d1",
   "metadata": {},
   "source": [
    "The electric field produces by a particle\n",
    "\n",
    "$$\\overrightarrow{\\boldsymbol{E}}=\\frac{1}{4 \\pi \\epsilon_{0}} \\frac{q}{r^{2}} \\hat{r}$$\n",
    "\n",
    "$q$: value of point charge\n",
    "\n",
    "$r$: distance from point charge to where field is measured\n",
    "\n",
    "$\\hat{r}$: unit vector from point charge toward where field is measured"
   ]
  },
  {
   "cell_type": "code",
   "execution_count": 38,
   "id": "0038a479-da98-47a4-9133-29fb0318b72b",
   "metadata": {},
   "outputs": [],
   "source": [
    "#| export\n",
    "class ElectricField(Particle):\n",
    "    \n",
    "    def magnitude(self, measure_coodrinate: Vector): # the coordinate of where the field is measured\n",
    "        \n",
    "        \"\"\"\"\n",
    "        Calculate the magnitude of a point charge to where the field is measured\n",
    "        \"\"\"\n",
    "        \n",
    "        distance = self.coordinate.subtract(measure_coodrinate)\n",
    "        distance_squared = distance.rho2\n",
    "        unit_vector = distance.unit()\n",
    "        \n",
    "        print(f\"electric_field = {self.electric_charge}\")\n",
    "        \n",
    "        return (1/(4*pi*epsilon_0)) * (self.electric_charge / distance_squared) * unit_vector"
   ]
  },
  {
   "cell_type": "code",
   "execution_count": 39,
   "id": "7dafb964-1e36-45c6-ad67-de1af4266018",
   "metadata": {},
   "outputs": [],
   "source": [
    "p1 = ElectricField(electric_charge=31, coordinate=vector.obj(x=2, y=5))"
   ]
  },
  {
   "cell_type": "code",
   "execution_count": 40,
   "id": "99fcec8a-b267-42a7-a30a-e16485f8c338",
   "metadata": {},
   "outputs": [],
   "source": [
    "a = vector.obj(x=2, y=5)"
   ]
  },
  {
   "cell_type": "code",
   "execution_count": 41,
   "id": "dec3c6cf-d537-446d-b966-bec950c37ad0",
   "metadata": {},
   "outputs": [
    {
     "data": {
      "text/plain": [
       "{'electric_charge': 31, 'coordinate': vector.obj(x=2, y=5)}"
      ]
     },
     "execution_count": 41,
     "metadata": {},
     "output_type": "execute_result"
    }
   ],
   "source": [
    "p1.__dict__"
   ]
  },
  {
   "cell_type": "code",
   "execution_count": 42,
   "id": "3e43ce3d-66f0-4cae-a507-708b2ab5d7e0",
   "metadata": {},
   "outputs": [
    {
     "name": "stdout",
     "output_type": "stream",
     "text": [
      "electric_field = 31\n"
     ]
    },
    {
     "data": {
      "text/plain": [
       "vector.obj(x=-487162.96727572713, y=-40434526.28388535)"
      ]
     },
     "execution_count": 42,
     "metadata": {},
     "output_type": "execute_result"
    }
   ],
   "source": [
    "p1.magnitude(measure_coodrinate=vector.obj(x=3, y=88))"
   ]
  },
  {
   "cell_type": "code",
   "execution_count": 43,
   "id": "c0626843-b3ac-4ce7-b5e6-4b6ce92a525a",
   "metadata": {},
   "outputs": [
    {
     "data": {
      "text/markdown": [
       "---\n",
       "\n",
       "[source](https://github.com/xrsrke/elemagnet/blob/master/elemagnet/electric_field.py#LNone){target=\"_blank\" style=\"float:right; font-size:smaller\"}\n",
       "\n",
       "### ElectricField.magnitude\n",
       "\n",
       ">      ElectricField.magnitude (measure_coodrinate:__main__.Vector)\n",
       "\n",
       "\"\n",
       "Calculate the magnitude of a point charge to where the field is measured\n",
       "\n",
       "|    | **Type** | **Details** |\n",
       "| -- | -------- | ----------- |\n",
       "| measure_coodrinate | Vector | the coordinate of where the field is measured |"
      ],
      "text/plain": [
       "---\n",
       "\n",
       "[source](https://github.com/xrsrke/elemagnet/blob/master/elemagnet/electric_field.py#LNone){target=\"_blank\" style=\"float:right; font-size:smaller\"}\n",
       "\n",
       "### ElectricField.magnitude\n",
       "\n",
       ">      ElectricField.magnitude (measure_coodrinate:__main__.Vector)\n",
       "\n",
       "\"\n",
       "Calculate the magnitude of a point charge to where the field is measured\n",
       "\n",
       "|    | **Type** | **Details** |\n",
       "| -- | -------- | ----------- |\n",
       "| measure_coodrinate | Vector | the coordinate of where the field is measured |"
      ]
     },
     "execution_count": 43,
     "metadata": {},
     "output_type": "execute_result"
    }
   ],
   "source": [
    "show_doc(ElectricField.magnitude)"
   ]
  },
  {
   "cell_type": "markdown",
   "id": "bb3fc57f-6230-4755-8bc2-e082923387a1",
   "metadata": {},
   "source": [
    "#### The Superposition of Electric Field"
   ]
  },
  {
   "cell_type": "markdown",
   "id": "f49c6aca-b910-4694-84e5-cd3f463eea6f",
   "metadata": {},
   "source": [
    "**PRINCIPLE OF SUPERPOSITION OF ELECTRIC FIELDS**: The total electric field at a point $P$ is the vector sum of the fields at $P$ due to each point charge in the charge distribution."
   ]
  },
  {
   "cell_type": "code",
   "execution_count": null,
   "id": "498f8317-64cd-4954-b90c-fee6ccab13ac",
   "metadata": {},
   "outputs": [],
   "source": []
  },
  {
   "cell_type": "code",
   "execution_count": null,
   "id": "1129f590-fab8-4709-81e8-8d3c0b401131",
   "metadata": {},
   "outputs": [],
   "source": []
  }
 ],
 "metadata": {
  "kernelspec": {
   "display_name": "Python 3 (ipykernel)",
   "language": "python",
   "name": "python3"
  },
  "language_info": {
   "codemirror_mode": {
    "name": "ipython",
    "version": 3
   },
   "file_extension": ".py",
   "mimetype": "text/x-python",
   "name": "python",
   "nbconvert_exporter": "python",
   "pygments_lexer": "ipython3",
   "version": "3.9.13"
  }
 },
 "nbformat": 4,
 "nbformat_minor": 5
}
