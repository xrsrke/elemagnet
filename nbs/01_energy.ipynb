{
 "cells": [
  {
   "cell_type": "code",
   "execution_count": null,
   "id": "d296da8b-d91d-4cd9-9931-0a78a6420cd9",
   "metadata": {},
   "outputs": [],
   "source": []
  }
 ],
 "metadata": {
  "kernelspec": {
   "display_name": "Python 3 (ipykernel)",
   "language": "python",
   "name": "python3"
  }
 },
 "nbformat": 4,
 "nbformat_minor": 5
}
